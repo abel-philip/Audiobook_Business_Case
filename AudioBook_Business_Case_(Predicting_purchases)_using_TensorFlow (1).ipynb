{
  "nbformat": 4,
  "nbformat_minor": 0,
  "metadata": {
    "colab": {
      "name": "AudioBook Business Case (Predicting purchases) using TensorFlow",
      "provenance": []
    },
    "kernelspec": {
      "name": "python3",
      "display_name": "Python 3"
    }
  },
  "cells": [
    {
      "cell_type": "markdown",
      "metadata": {
        "id": "6aOT_ZruMwbJ",
        "colab_type": "text"
      },
      "source": [
        "#AudioBook Business Case (Predicting purchases) using TensorFlow\n",
        "\n",
        "Predicting purchases of customers based on past data"
      ]
    },
    {
      "cell_type": "markdown",
      "metadata": {
        "id": "3QTCK7cHNCTZ",
        "colab_type": "text"
      },
      "source": [
        "###Importing Libraries"
      ]
    },
    {
      "cell_type": "code",
      "metadata": {
        "id": "XvU6GmXPM3zc",
        "colab_type": "code",
        "colab": {}
      },
      "source": [
        "import numpy as np\n",
        "from sklearn import preprocessing"
      ],
      "execution_count": 0,
      "outputs": []
    },
    {
      "cell_type": "markdown",
      "metadata": {
        "id": "iF75UIXQOqgs",
        "colab_type": "text"
      },
      "source": [
        "###Importing the data"
      ]
    },
    {
      "cell_type": "code",
      "metadata": {
        "id": "KHfLMn0cM-6n",
        "colab_type": "code",
        "colab": {}
      },
      "source": [
        "raw_csv_data = np.loadtxt('data/Audiobooks_data.csv', delimiter = ',')\n",
        "# Exclude the first column which is the Customer-ID and the last column - target \n",
        "unscaled_inputs_all = raw_csv_data[:,1:-1]\n",
        "targets_all = raw_csv_data[:,-1]"
      ],
      "execution_count": 0,
      "outputs": []
    },
    {
      "cell_type": "markdown",
      "metadata": {
        "id": "da6kAmqfSC66",
        "colab_type": "text"
      },
      "source": [
        "##Preprocessing"
      ]
    },
    {
      "cell_type": "markdown",
      "metadata": {
        "id": "PaoJi8FsOtzK",
        "colab_type": "text"
      },
      "source": [
        "###Balancing the dataset"
      ]
    },
    {
      "cell_type": "markdown",
      "metadata": {
        "id": "avRcEHxOO30Z",
        "colab_type": "text"
      },
      "source": [
        "Targets are the last column (binary) in which 1s have bought a product in a specified amount of time and 0s havent.  \n",
        "So, in this file, there are way more 0s than 1s in the target. We will keep  only the same amount of 0 rows as there are 1 rows so as to balance the data"
      ]
    },
    {
      "cell_type": "code",
      "metadata": {
        "id": "9fZsnxDmNO_c",
        "colab_type": "code",
        "colab": {}
      },
      "source": [
        "number_one_targets = int(np.sum(targets_all))\n",
        "zero_targets_counter = 0\n",
        "indices_to_remove = []\n",
        "\n",
        "for i in range(targets_all.shape[0]):\n",
        "  if targets_all[i] == 0:\n",
        "    zero_targets_counter += 1\n",
        "    if zero_targets_counter > number_one_targets:\n",
        "      indices_to_remove.append(i)\n",
        "\n",
        "unscaled_inputs_equal_priors = np.delete(unscaled_inputs_all, indices_to_remove, axis = 0)\n",
        "targets_equal_priors = np.delete(targets_all, indices_to_remove, axis = 0)"
      ],
      "execution_count": 0,
      "outputs": []
    },
    {
      "cell_type": "markdown",
      "metadata": {
        "id": "6J3VMy8SRpmj",
        "colab_type": "text"
      },
      "source": [
        "###Standardize the imputs"
      ]
    },
    {
      "cell_type": "code",
      "metadata": {
        "id": "03SjsXx2QX-K",
        "colab_type": "code",
        "colab": {}
      },
      "source": [
        "scaled_inputs = preprocessing.scale(unscaled_inputs_equal_priors)"
      ],
      "execution_count": 0,
      "outputs": []
    },
    {
      "cell_type": "markdown",
      "metadata": {
        "id": "On-FYr8pR-Sw",
        "colab_type": "text"
      },
      "source": [
        "###Shuffle the data"
      ]
    },
    {
      "cell_type": "code",
      "metadata": {
        "id": "-UtNhQ9mR-An",
        "colab_type": "code",
        "colab": {}
      },
      "source": [
        "shuffled_indices = np.arange(scaled_inputs.shape[0])\n",
        "np.random.shuffle(shuffled_indices)\n",
        "\n",
        "shuffled_inputs = scaled_inputs[shuffled_indices]\n",
        "shuffled_targets = targets_equal_priors[shuffled_indices]"
      ],
      "execution_count": 0,
      "outputs": []
    },
    {
      "cell_type": "markdown",
      "metadata": {
        "id": "DmoMP3JETPTM",
        "colab_type": "text"
      },
      "source": [
        "###Split data into train, validation and test"
      ]
    },
    {
      "cell_type": "code",
      "metadata": {
        "id": "M0IQ9zWgR85E",
        "colab_type": "code",
        "colab": {}
      },
      "source": [
        "samples_count = shuffled_inputs.shape[0]\n",
        "\n",
        "train_samples_count = int(samples_count*0.8)\n",
        "validation_samples_count = int(samples_count*0.1)\n",
        "test_samples_count = samples_count - train_samples_count - validation_samples_count\n",
        "\n",
        "train_inputs = shuffled_inputs[:train_samples_count]\n",
        "train_targets = shuffled_targets[:train_samples_count]\n",
        "\n",
        "validation_inputs = shuffled_inputs[train_samples_count: train_samples_count + validation_samples_count]\n",
        "validation_targets = shuffled_targets[train_samples_count: train_samples_count + validation_samples_count]\n",
        "\n",
        "test_inputs = shuffled_inputs[train_samples_count + validation_samples_count: ]\n",
        "test_targets = shuffled_targets[train_samples_count + validation_samples_count:]\n"
      ],
      "execution_count": 0,
      "outputs": []
    },
    {
      "cell_type": "code",
      "metadata": {
        "id": "piGSFmH6T4tL",
        "colab_type": "code",
        "outputId": "c2ff6ffb-5a43-436b-fa89-eae89493765a",
        "colab": {
          "base_uri": "https://localhost:8080/",
          "height": 69
        }
      },
      "source": [
        "#Printing the count of rows and targets split in each dataset\n",
        "print(\"Training: Total rows - {0: .2f}, Total ones - {1:.2f}, Split Percent - {2:.2f}\" .format(train_samples_count, np.sum(train_targets), np.sum(train_targets)/train_samples_count))\n",
        "print(\"Validation: Total rows - {0: .2f}, Total ones - {1:.2f}, Split Percent - {2:.2f}\" .format(validation_samples_count, np.sum(validation_targets), np.sum(validation_targets)/validation_samples_count))\n",
        "print(\"Testing: Total rows - {0: .2f}, Total ones - {1:.2f}, Split Percent - {2:.2f}\" .format(test_samples_count, np.sum(test_targets), np.sum(test_targets)/test_samples_count))"
      ],
      "execution_count": 0,
      "outputs": [
        {
          "output_type": "stream",
          "text": [
            "Training: Total rows -  3579.00, Total ones - 1794.00, Split Percent - 0.50\n",
            "Validation: Total rows -  447.00, Total ones - 220.00, Split Percent - 0.49\n",
            "Testing: Total rows -  448.00, Total ones - 223.00, Split Percent - 0.50\n"
          ],
          "name": "stdout"
        }
      ]
    },
    {
      "cell_type": "markdown",
      "metadata": {
        "id": "9efZBhi9XZYB",
        "colab_type": "text"
      },
      "source": [
        "###Saving in .npz format"
      ]
    },
    {
      "cell_type": "code",
      "metadata": {
        "id": "VYjxr9VoVOwu",
        "colab_type": "code",
        "colab": {}
      },
      "source": [
        "np.savez('Audiobooks_data_train', inputs = train_inputs, targets = train_targets)\n",
        "np.savez('Audiobooks_data_validation', inputs = validation_inputs, targets = validation_targets)\n",
        "np.savez('Audiobooks_data_test', inputs = test_inputs, targets = test_targets)"
      ],
      "execution_count": 0,
      "outputs": []
    },
    {
      "cell_type": "markdown",
      "metadata": {
        "id": "ymDQd-i9dsW-",
        "colab_type": "text"
      },
      "source": [
        "##Creating the Model"
      ]
    },
    {
      "cell_type": "markdown",
      "metadata": {
        "id": "2eDTynHvqMJg",
        "colab_type": "text"
      },
      "source": [
        "###Importing tensorflow for machine learning algorithm "
      ]
    },
    {
      "cell_type": "code",
      "metadata": {
        "id": "UK5ssnnvX-O1",
        "colab_type": "code",
        "colab": {}
      },
      "source": [
        "import tensorflow as tf"
      ],
      "execution_count": 0,
      "outputs": []
    },
    {
      "cell_type": "markdown",
      "metadata": {
        "id": "iv4u8Q1gqTs6",
        "colab_type": "text"
      },
      "source": [
        "###Importing data from .npz files"
      ]
    },
    {
      "cell_type": "code",
      "metadata": {
        "id": "Ib9ZgNoOqR_Z",
        "colab_type": "code",
        "colab": {}
      },
      "source": [
        "npz = np.load('/content/Audiobooks_data_train.npz')\n",
        "train_inputs = npz['inputs'].astype(np.float)\n",
        "train_targets = npz['targets'].astype(np.int)\n",
        "\n",
        "npz = np.load('/content/Audiobooks_data_validation.npz')\n",
        "validation_inputs = npz['inputs'].astype(np.float)\n",
        "validation_targets = npz['targets'].astype(np.int)\n",
        "\n",
        "npz = np.load('/content/Audiobooks_data_test.npz')\n",
        "test_inputs = npz['inputs'].astype(np.float)\n",
        "test_targets = npz['targets'].astype(np.int)\n"
      ],
      "execution_count": 0,
      "outputs": []
    },
    {
      "cell_type": "markdown",
      "metadata": {
        "id": "4SDHKoX7t1WD",
        "colab_type": "text"
      },
      "source": [
        "###Customizing the Model"
      ]
    },
    {
      "cell_type": "code",
      "metadata": {
        "id": "SgoFohUtttdn",
        "colab_type": "code",
        "outputId": "f94d26ea-cc88-49ff-d557-7879b4b966bd",
        "colab": {
          "base_uri": "https://localhost:8080/",
          "height": 624
        }
      },
      "source": [
        "input_size = 10\n",
        "output_size = 2\n",
        "hidden_layer_size = 50\n",
        "\n",
        "model = tf.keras.Sequential([\n",
        "                            tf.keras.layers.Dense(hidden_layer_size, activation='relu'),\n",
        "                            tf.keras.layers.Dense(hidden_layer_size, activation='relu'),\n",
        "                            tf.keras.layers.Dense(output_size, activation='softmax')\n",
        "                            ])\n",
        "\n",
        "model.compile(optimizer = 'adam', loss = 'sparse_categorical_crossentropy', metrics=['accuracy'])\n",
        "\n",
        "BATCH_SIZE = 100\n",
        "MAX_EPOCHS = 100\n",
        "\n",
        "early_stopping = tf.keras.callbacks.EarlyStopping(patience=3)\n",
        "\n",
        "model.fit(train_inputs,\n",
        "          train_targets,\n",
        "          batch_size = BATCH_SIZE,\n",
        "          epochs = MAX_EPOCHS,\n",
        "          callbacks = [early_stopping],\n",
        "          validation_data = (validation_inputs,validation_targets),\n",
        "          verbose=2\n",
        "          )"
      ],
      "execution_count": 0,
      "outputs": [
        {
          "output_type": "stream",
          "text": [
            "Epoch 1/100\n",
            "36/36 - 0s - loss: 0.5400 - accuracy: 0.7823 - val_loss: 0.4394 - val_accuracy: 0.8523\n",
            "Epoch 2/100\n",
            "36/36 - 0s - loss: 0.3593 - accuracy: 0.8762 - val_loss: 0.3453 - val_accuracy: 0.8725\n",
            "Epoch 3/100\n",
            "36/36 - 0s - loss: 0.3075 - accuracy: 0.8857 - val_loss: 0.3278 - val_accuracy: 0.8814\n",
            "Epoch 4/100\n",
            "36/36 - 0s - loss: 0.2895 - accuracy: 0.8910 - val_loss: 0.3115 - val_accuracy: 0.8814\n",
            "Epoch 5/100\n",
            "36/36 - 0s - loss: 0.2790 - accuracy: 0.8938 - val_loss: 0.3049 - val_accuracy: 0.8837\n",
            "Epoch 6/100\n",
            "36/36 - 0s - loss: 0.2702 - accuracy: 0.9000 - val_loss: 0.2878 - val_accuracy: 0.8881\n",
            "Epoch 7/100\n",
            "36/36 - 0s - loss: 0.2619 - accuracy: 0.9011 - val_loss: 0.2892 - val_accuracy: 0.8881\n",
            "Epoch 8/100\n",
            "36/36 - 0s - loss: 0.2561 - accuracy: 0.9036 - val_loss: 0.2858 - val_accuracy: 0.8926\n",
            "Epoch 9/100\n",
            "36/36 - 0s - loss: 0.2542 - accuracy: 0.9028 - val_loss: 0.2802 - val_accuracy: 0.8949\n",
            "Epoch 10/100\n",
            "36/36 - 0s - loss: 0.2509 - accuracy: 0.9025 - val_loss: 0.2789 - val_accuracy: 0.8881\n",
            "Epoch 11/100\n",
            "36/36 - 0s - loss: 0.2481 - accuracy: 0.9070 - val_loss: 0.2746 - val_accuracy: 0.8926\n",
            "Epoch 12/100\n",
            "36/36 - 0s - loss: 0.2443 - accuracy: 0.9064 - val_loss: 0.2749 - val_accuracy: 0.8926\n",
            "Epoch 13/100\n",
            "36/36 - 0s - loss: 0.2425 - accuracy: 0.9086 - val_loss: 0.2712 - val_accuracy: 0.8904\n",
            "Epoch 14/100\n",
            "36/36 - 0s - loss: 0.2415 - accuracy: 0.9084 - val_loss: 0.2691 - val_accuracy: 0.8971\n",
            "Epoch 15/100\n",
            "36/36 - 0s - loss: 0.2421 - accuracy: 0.9072 - val_loss: 0.2722 - val_accuracy: 0.8949\n",
            "Epoch 16/100\n",
            "36/36 - 0s - loss: 0.2378 - accuracy: 0.9103 - val_loss: 0.2697 - val_accuracy: 0.8949\n",
            "Epoch 17/100\n",
            "36/36 - 0s - loss: 0.2369 - accuracy: 0.9100 - val_loss: 0.2721 - val_accuracy: 0.8881\n"
          ],
          "name": "stdout"
        },
        {
          "output_type": "execute_result",
          "data": {
            "text/plain": [
              "<tensorflow.python.keras.callbacks.History at 0x7fd5a9e93518>"
            ]
          },
          "metadata": {
            "tags": []
          },
          "execution_count": 13
        }
      ]
    },
    {
      "cell_type": "markdown",
      "metadata": {
        "id": "iTY-ojUGzCE5",
        "colab_type": "text"
      },
      "source": [
        "###Testing"
      ]
    },
    {
      "cell_type": "code",
      "metadata": {
        "id": "5J8VpuIDutRQ",
        "colab_type": "code",
        "outputId": "cb2220c5-cff0-44c2-fcb4-fc3fad6b9831",
        "colab": {
          "base_uri": "https://localhost:8080/",
          "height": 35
        }
      },
      "source": [
        "test_loss, test_accuracy = model.evaluate(test_inputs,test_targets)"
      ],
      "execution_count": 0,
      "outputs": [
        {
          "output_type": "stream",
          "text": [
            "14/14 [==============================] - 0s 1ms/step - loss: 0.2471 - accuracy: 0.9085\n"
          ],
          "name": "stdout"
        }
      ]
    },
    {
      "cell_type": "code",
      "metadata": {
        "id": "6rbhtlTTzNs6",
        "colab_type": "code",
        "outputId": "fac46e43-20f5-441a-fcee-b8654618757b",
        "colab": {
          "base_uri": "https://localhost:8080/",
          "height": 35
        }
      },
      "source": [
        "print(\"Tesing loss: {0: .2f}, Testing Accuracy: {1: .2f}%\" .format(test_loss, test_accuracy*100))"
      ],
      "execution_count": 0,
      "outputs": [
        {
          "output_type": "stream",
          "text": [
            "Tesing loss:  0.25, Testing Accuracy:  90.85%\n"
          ],
          "name": "stdout"
        }
      ]
    },
    {
      "cell_type": "markdown",
      "metadata": {
        "id": "H6HAqzd6Dgiq",
        "colab_type": "text"
      },
      "source": [
        "##Conclusion\n",
        "\n",
        "We obtained around 90% accuracy for predicting the sales by customers"
      ]
    }
  ]
}